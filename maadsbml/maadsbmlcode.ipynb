{
 "cells": [
  {
   "cell_type": "code",
   "execution_count": 1,
   "id": "563de2af",
   "metadata": {},
   "outputs": [],
   "source": [
    "#########################################################\n",
    "# Developed By: Sebastian Maurice, PhD\n",
    "########################################################\n",
    "\n",
    "import maadsbml\n",
    "import json\n",
    "import os\n",
    "import time\n",
    "# Uncomment IF using jupyter notebook\n",
    "import nest_asyncio\n",
    "# Uncomment IF using jupyter notebook\n",
    "nest_asyncio.apply()"
   ]
  },
  {
   "cell_type": "code",
   "execution_count": 2,
   "id": "1eec47df",
   "metadata": {
    "scrolled": true
   },
   "outputs": [],
   "source": [
    "host='http://127.0.0.1'\n",
    "port=5595\n",
    "######################### Change these two folder to your local paths that you used for the volume mappings in Docker\n",
    "########### Local Paths on Linux/Mac\n",
    "localstagingfolder = \"/Users/admin/maads/staging\" # change this folder to your local mapped staging folder\n",
    "localexceptionfolder = \"/Users/admin/maads/exception\" # change this folder to your local mapped exception folder\n",
    "\n",
    "########### Local Paths on Windows\n",
    "#localstagingfolder = \"c:\\\\maads\\\\agentfilesdocker\\\\dist\\\\staging\" # change this folder to your local mapped staging folder\n",
    "#localexceptionfolder = \"c:\\\\maads\\\\agentfilesdocker\\\\dist\\\\maadsweb\\\\exception\" # change this folder to your local mapped exception folder\n",
    "\n",
    "#########################################################\n",
    "\n",
    "def readifbrokenpipe(jres,hasseasonality):\n",
    "      # this function is called if there is a broken pipe network issue\n",
    "      pkey=\"\"\n",
    "      algofile=\"\"        \n",
    "      jsonalgostr = \"\"\n",
    "    \n",
    "      pkey= jres.get('AlgoKey')\n",
    "    \n",
    "      maadsbmlfile=\"%s/%s.txt.working\" % (localstagingfolder,pkey)\n",
    "      if hasseasonality == 1:\n",
    "        algojsonfile=\"%s/%s_trained_algo_seasons.json\" % (localexceptionfolder,pkey)\n",
    "      else:\n",
    "        algojsonfile=\"%s/%s_trained_algo_no_seasons.json\" % (localexceptionfolder,pkey)\n",
    "      \n",
    "      while True:\n",
    "          time.sleep(5)            \n",
    "          if os.path.isfile(maadsbmlfile): \n",
    "               continue\n",
    "          elif os.path.isfile(algojsonfile):\n",
    "                # Read the json            \n",
    "              with open(algojsonfile) as f:\n",
    "                  jsonalgostr = json.load(f)\n",
    "              break # maadsbml finished\n",
    "      return jsonalgostr\n",
    "\n",
    "def hypertraining(host,port,filename,dependentvariable,removeoutliers,hasseasonality,deepanalysis):\n",
    "  #def hypertraining(host,port,filename,dependentvariable,removeoutliers=0,hasseasonality=0,\n",
    "    #summer='6,7,8',winter='11,12,1,2',shoulder='3,4,5,9,10',trainingpercentage=70,shuffle=0,\n",
    "    #deepanalysis=0,username='admin',timeout=1200,company='otics',password='123',email='support@otics.ca',\n",
    "    #usereverseproxy=0,microserviceid='',maadstoken='123',mode=0):\n",
    "\n",
    "\n",
    "  #host,port,\n",
    "  #filename= raw data file in csv format - Note this file is stored on your host machine the DOCKER container needs to be mapped to this volume using -v\n",
    "  #dependentvariable= dependent variable name - this is the column name in the csv file\n",
    "  # the file should have a Date column in the format Month/Day/Year\n",
    "  #username= you can specify a username\n",
    "  #mode=0\n",
    "  #timeout=180 - you can modify this in seconds if your data file is large\n",
    "  #company= change this to the name of your company\n",
    "  #removeoutliers= specify 1 or 0, 1=remove outliers, 0 do not remove outliers,\n",
    "  #hasseasonality= specify 1 or 0 to indicate date is affected by seasonaility - 1 = seasonality, 0 = no seasonality,\n",
    "  #summer= specify the summer months ie. '6,7,8', or set to -1 for no summer\n",
    "  #winter= specify winter months i.e. '11,12,1,2', or -1 for no winter\n",
    "  #shoulder= specify shoulder months i.e. '3,4,5,9,10', or -1 for no shoulder season\n",
    "  #trainingpercentage= specify training percentage i.e. 70, the value represents a percentage to split training and test\n",
    "  #shuffle= specify 1 or 0 to shuffle the data, 1= shuffle, 0 = no shuffle\n",
    "  #deepanalysis= specify 1 or 0, 1=deepanalysis, note this will run through deeper algorithms but will take longer, 0 = no deep analysis, this will\n",
    "  #password='123', - leave as is\n",
    "  #email='support@otics.ca', - leave as is\n",
    "  #usereverseproxy=0, - leave as is\n",
    "  #microserviceid='', leave as is\n",
    "  #maadstoken='123' leave as is\n",
    "  summer='6,7,8'\n",
    "  winter='11,12,1,2'\n",
    "  shoulder='3,4,5,9,10'\n",
    "  #shoulder='-1'\n",
    "  trainingpercentage=75\n",
    "  shuffle=1\n",
    "  res=maadsbml.hypertraining(host,port,filename,dependentvariable,removeoutliers,hasseasonality,summer,winter,shoulder,trainingpercentage,shuffle,deepanalysis)\n",
    "  jres = json.loads(res)\n",
    "\n",
    "  if jres.get('BrokenPipe') != None: # check if the hypertraining function experienced a brokenpipe - if so wait \n",
    "        try:\n",
    "          res=readifbrokenpipe(jres,hasseasonality)\n",
    "        except Exception as e:\n",
    "          print(e)  \n",
    "           \n",
    "  print(res)\n",
    "\n",
    "\n",
    "def hyperprediction(pkey,host,port,inputdata,username):\n",
    "  \n",
    "  res=maadsbml.hyperpredictions(pkey,inputdata,host,port,username)\n",
    "  print(res)\n",
    "\n",
    "def hyperpredictioncustom(pkey,host,port,inputdata,username,algoname,season):\n",
    "  res=maadsbml.hyperpredictions(pkey,inputdata,host,port,username,algoname,season)\n",
    "  print(res)\n",
    "  \n",
    "def algoinfo(pk):\n",
    "   res=maadsbml.algodescription(host,port,pk)\n",
    "   print(res)\n",
    "\n",
    "def rundemo(demotype):\n",
    "   global host\n",
    "   global port\n",
    "    # if demotype=1 then Regression will be run\n",
    "    # if demotype=0 then Classification will be run\n",
    "   res=maadsbml.rundemo(host,port,demotype)\n",
    "   print(res)\n",
    "\n",
    "def abort(host,port):\n",
    "   res=maadsbml.abort(host,port)\n",
    "   print(res)\n",
    "\n"
   ]
  },
  {
   "cell_type": "code",
   "execution_count": null,
   "id": "6c4cd8ce",
   "metadata": {
    "scrolled": true
   },
   "outputs": [
    {
     "name": "stdout",
     "output_type": "stream",
     "text": [
      "http://127.0.0.1:5595/?algoinfo=1&pkey=admin_aesopowerdemand_csv\n",
      "{\"RUN DATE\": \"2024/04/10\", \"RUN TIME\": \"1500\", \"ALGO KEY\": \"admin_aesopowerdemand_csv\", \"ALGO NAME\": \"TheilSenRegressor\", \"ALGO DESCRIPTION\": \"Theil-Sen Estimator (http://scikit-learn.org/stable/modules/generated/sklearn.linear_model.TheilSenRegressor.html#sklearn.linear_model.TheilSenRegressor) - Theil-Sen Estimator: robust multivariate regression model.\", \"FORECAST ACCURACY\": 0.59, \"TRAINING SAMPLE SIZE\": 897, \"NUMBER OF INPUTS\": 3, \"SEASON\": \"N\", \"DEPENDENT VARIABLE\": \"AESO_Power_Demand\", \"TOTAL NUMBER OF ROWS\": 1280, \"OUTLIERS REMOVED\": \"0\", \"FIELDNAMES\": \"Date,AESO_Power_Demand,Calgary_Weather,Edmonton_Weather,FtMac_Weather\", \"COMPANY\": \"Alberta-Electric-System-Operator_AESO\", \"EMAIL\": \"support@otics.ca\", \"USERNAME\": \"admin\", \"IS NORMALIZED?\": \"Y\", \"PDF REPORT\": \"/maads/agentfilesdocker/dist/maadsweb/pdfreports/admin_aesopowerdemand_csv.pdf\", \"TRAINING FILE\": \"/maads/agentfilesdocker/dist/maadsweb/csvuploads/aesopowerdemand.csv\", \"ALGORITHM ZIP FILE\": \"/maads/agentfilesdocker/dist/maadsweb/networktemp/admin_aesopowerdemand_csv.zip\", \"AUTOFEATURES\": \"/maads/agentfilesdocker/dist/maadsweb/autofeatures/admin_aesopowerdemand_csv_.csv\", \"BEST DISTRIBUTION\": \"VONMISES\", \"ALGODETAILS\":\"TheilSenRegressor,0.589524,allseason;RANSACRegressor,0.569786,allseason;ARDRegression,0.525061,allseason;BayesianRidge,0.522767,allseason;simpleregression_reg,0.521,allseason;Lars,0.520718,allseason;LarsCV,0.520718,allseason;LassoLarsCV,0.520718,allseason;LassoLarsIC,0.520718,allseason;HuberRegressor,0.513956,allseason;\"}\n",
      "Please wait...this could take 3-5 minutes\n",
      "http://127.0.0.1:5595/?rundemo=0\n"
     ]
    }
   ],
   "source": [
    "# ############Function Commands\n",
    "# Algoinfo\n",
    "pk='admin_aesopowerdemand_csv'\n",
    "algoinfo(pk)\n",
    "\n",
    "#pk='admin_aesopowerdemandlogistic_csv'\n",
    "#algoinfo(pk)\n",
    "\n",
    "# ############Abort\n",
    "#abort(host,10000)\n",
    "\n",
    "# ############Rundemo\n",
    "rundemo(0)\n"
   ]
  },
  {
   "cell_type": "code",
   "execution_count": 45,
   "id": "df5b5172",
   "metadata": {
    "scrolled": true
   },
   "outputs": [
    {
     "name": "stdout",
     "output_type": "stream",
     "text": [
      "Please wait...this could take 3-5 minutes\n",
      "http://127.0.0.1:5595/?hypertraining=1&mode=0&username=admin&company=otics&email=support%40otics.ca&filename=aesopowerdemand.csv&removeoutliers=1&hasseasonality=0&dependentvariable=AESO_Power_Demand&summer=6%2C7%2C8&winter=11%2C12%2C1%2C2&shoulder=3%2C4%2C5%2C9%2C10&trainingpercentage=75&shuffle=1&deepanalysis=0\n",
      "{\"AlgoKey\":\"admin_aesopowerdemand_csv\",\"AlgoDetails\":\"NuSVR,0.662062,allseason;GradientBoostingRegressor,0.651359,allseason;ADABoostRegressor,0.641686,allseason;DecisionTreeRegressor,0.613964,allseason;SVR,0.612398,allseason;RANSACRegressor,0.468207,allseason;LinearSVR,0.443493,allseason;HuberRegressor,0.441206,allseason;ARDRegression,0.439733,allseason;BayesianRidge,0.439699,allseason;\",\"PDF\":\"/mnt/c/maads/agentfilesdocker/dist/maadsweb/pdfreports/admin_aesopowerdemand_csv_no_seasons.pdf\",\"Hasseasonality\":\"No\",\"Deep Analysis\":\"No\",\"Shuffled\":\"Yes\",\"Outliers Removed\":\"Yes\",\"Generated On\":\"2024-04-08 21:00:07\", \"Timezone\":\"EDT\",\"Username\":\"admin\",\"Dependentvariable\":\"AESO_Power_Demand\",\"Filename\":\"aesopowerdemand.csv\",\"Host\":\"127.0.0.1\",\"Port\":5595}\n",
      "\n"
     ]
    }
   ],
   "source": [
    "############ Hypertraining\n",
    "#filename='aesopowerdemandlogistic.csv'\n",
    "#dependentvariable='AESO_Power_Demand_Label'\n",
    "\n",
    "filename='aesopowerdemand.csv'\n",
    "#filename='aesopowerdemandsm.csv'\n",
    "dependentvariable='AESO_Power_Demand'\n",
    "removeoutliers=1\n",
    "hasseasonality=1\n",
    "deepanalysis=0\n",
    "\n",
    "#hypertraining(host,port,filename,dependentvariable,removeoutliers,hasseasonality,deepanalysis)\n"
   ]
  },
  {
   "cell_type": "code",
   "execution_count": null,
   "id": "9fd635c5",
   "metadata": {},
   "outputs": [],
   "source": [
    "# ############Hyperpredictions\n",
    "predictionport=5495\n",
    "pkey='admin_aesopowerdemandlogistic_csv'\n",
    "inputdata='6/10/2010,-14.3,-32.0,-12.0'\n",
    "hyperprediction(pkey,host,predictionport,inputdata,'admin')\n",
    "\n",
    "#hyperpredictioncustom(pkey,host,predictionport,inputdata,'admin','LogisticRegression','allseason')\n",
    "\n",
    "pkey='admin_aesopowerdemand_csv'\n",
    "inputdata='6/10/2010,-14.3,-52.0,-12.0'\n",
    "hyperprediction(pkey,host,predictionport,inputdata,'admin')\n",
    "\n",
    "algo='simpleregression_reg'\n",
    "season='summer'\n",
    "#hyperpredictioncustom(pkey,host,predictionport,inputdata,'admin',algo,season)\n"
   ]
  },
  {
   "cell_type": "code",
   "execution_count": null,
   "id": "660c8b0f",
   "metadata": {},
   "outputs": [],
   "source": []
  },
  {
   "cell_type": "code",
   "execution_count": null,
   "id": "e725a1f5",
   "metadata": {},
   "outputs": [],
   "source": []
  }
 ],
 "metadata": {
  "kernelspec": {
   "display_name": "Python 3 (ipykernel)",
   "language": "python",
   "name": "python3"
  },
  "language_info": {
   "codemirror_mode": {
    "name": "ipython",
    "version": 3
   },
   "file_extension": ".py",
   "mimetype": "text/x-python",
   "name": "python",
   "nbconvert_exporter": "python",
   "pygments_lexer": "ipython3",
   "version": "3.8.7"
  }
 },
 "nbformat": 4,
 "nbformat_minor": 5
}
